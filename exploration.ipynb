{
 "cells": [
  {
   "cell_type": "code",
   "execution_count": 1,
   "metadata": {},
   "outputs": [],
   "source": [
    "from pdf_parser import extract_text_from_pdf, parse_schedule"
   ]
  },
  {
   "cell_type": "code",
   "execution_count": 2,
   "metadata": {},
   "outputs": [],
   "source": [
    "pdf_text = extract_text_from_pdf('Y3S2 CourseSchedule.pdf')"
   ]
  },
  {
   "cell_type": "code",
   "execution_count": 3,
   "metadata": {},
   "outputs": [
    {
     "name": "stdout",
     "output_type": "stream",
     "text": [
      "Processing line: 'ASTR 112 S25N01 Nanaimo 315 113 Th 16:30 18:30 06-JAN 11-APR Enrolled ARKOS GREGORY Face-to-Face'\n",
      "Processing line: 'Nanaimo 315 216 Tu Th 14:30 16:00 06-JAN 11-APR Enrolled'\n",
      "Processing line: 'Nanaimo 315 216 Th 16:30 18:30 06-JAN 11-APR Enrolled'\n",
      "Processing line: 'CSCI 320 S25N02 Nanaimo 210 240 Tu 10:30 11:30 06-JAN 11-APR Enrolled PRUESSE GARA Face-to-Face'\n",
      "Processing line: 'Nanaimo 210 240 Tu Th 13:00 14:30 06-JAN 11-APR Enrolled'\n",
      "Processing line: 'CSCI 330 S25N01 Nanaimo 210 240 Mo We 10:00 11:30 06-JAN 11-APR Enrolled WESSELS DAVID Face-to-Face'\n",
      "Processing line: 'Nanaimo 315 115 Mo 13:30 14:30 06-JAN 11-APR Enrolled'\n",
      "Processing line: 'CSCI 460 S25N01 Nanaimo 210 240 Mo We 08:30 10:00 06-JAN 11-APR Enrolled KABIR HUMAYUN Face-to-Face'\n",
      "Processing line: 'Nanaimo 315 115 Mo 15:30 16:30 06-JAN 11-APR Enrolled'\n",
      "Processing line: 'ECON 212 S25N02 Nanaimo 200 105 Tu Th 14:30 16:00 06-JAN 11-APR Enrolled LIU JOY Face-to-Face'\n",
      "Processing line: 'PHIL 233 S25N01 Nanaimo 356 315 Tu Th 08:30 10:00 06-JAN 11-APR Enrolled HEITI WARREN Face-to-Face'\n",
      "Number of unique course codes: 6\n",
      "Number of weekly calendar entries: 11\n"
     ]
    }
   ],
   "source": [
    "courses = parse_schedule(pdf_text)"
   ]
  },
  {
   "cell_type": "code",
   "execution_count": 4,
   "metadata": {},
   "outputs": [
    {
     "data": {
      "text/plain": [
       "[{'Course': 'ASTR 112',\n",
       "  'Section': 'S25N01',\n",
       "  'Location': 'Nanaimo 315 113',\n",
       "  'Days': 'Th',\n",
       "  'Start': '16:30',\n",
       "  'End': '18:30',\n",
       "  'StartDate': '06-JAN',\n",
       "  'EndDate': '11-APR',\n",
       "  'Status': 'Enrolled',\n",
       "  'Instructor': 'ARKOS GREGORY',\n",
       "  'DeliveryMode': 'Face-to-Face'},\n",
       " {'Course': 'ASTR 112',\n",
       "  'Section': 'S25N01',\n",
       "  'Location': 'Nanaimo 315 216',\n",
       "  'Days': 'Tu Th',\n",
       "  'Start': '14:30',\n",
       "  'End': '16:00',\n",
       "  'StartDate': '06-JAN',\n",
       "  'EndDate': '11-APR',\n",
       "  'Status': 'Enrolled',\n",
       "  'Instructor': 'ARKOS GREGORY',\n",
       "  'DeliveryMode': 'Face-to-Face'},\n",
       " {'Course': 'ASTR 112',\n",
       "  'Section': 'S25N01',\n",
       "  'Location': 'Nanaimo 315 216',\n",
       "  'Days': 'Th',\n",
       "  'Start': '16:30',\n",
       "  'End': '18:30',\n",
       "  'StartDate': '06-JAN',\n",
       "  'EndDate': '11-APR',\n",
       "  'Status': 'Enrolled',\n",
       "  'Instructor': 'ARKOS GREGORY',\n",
       "  'DeliveryMode': 'Face-to-Face'},\n",
       " {'Course': 'CSCI 320',\n",
       "  'Section': 'S25N02',\n",
       "  'Location': 'Nanaimo 210 240',\n",
       "  'Days': 'Tu',\n",
       "  'Start': '10:30',\n",
       "  'End': '11:30',\n",
       "  'StartDate': '06-JAN',\n",
       "  'EndDate': '11-APR',\n",
       "  'Status': 'Enrolled',\n",
       "  'Instructor': 'PRUESSE GARA',\n",
       "  'DeliveryMode': 'Face-to-Face'},\n",
       " {'Course': 'CSCI 320',\n",
       "  'Section': 'S25N02',\n",
       "  'Location': 'Nanaimo 210 240',\n",
       "  'Days': 'Tu Th',\n",
       "  'Start': '13:00',\n",
       "  'End': '14:30',\n",
       "  'StartDate': '06-JAN',\n",
       "  'EndDate': '11-APR',\n",
       "  'Status': 'Enrolled',\n",
       "  'Instructor': 'PRUESSE GARA',\n",
       "  'DeliveryMode': 'Face-to-Face'},\n",
       " {'Course': 'CSCI 330',\n",
       "  'Section': 'S25N01',\n",
       "  'Location': 'Nanaimo 210 240',\n",
       "  'Days': 'Mo We',\n",
       "  'Start': '10:00',\n",
       "  'End': '11:30',\n",
       "  'StartDate': '06-JAN',\n",
       "  'EndDate': '11-APR',\n",
       "  'Status': 'Enrolled',\n",
       "  'Instructor': 'WESSELS DAVID',\n",
       "  'DeliveryMode': 'Face-to-Face'},\n",
       " {'Course': 'CSCI 330',\n",
       "  'Section': 'S25N01',\n",
       "  'Location': 'Nanaimo 315 115',\n",
       "  'Days': 'Mo',\n",
       "  'Start': '13:30',\n",
       "  'End': '14:30',\n",
       "  'StartDate': '06-JAN',\n",
       "  'EndDate': '11-APR',\n",
       "  'Status': 'Enrolled',\n",
       "  'Instructor': 'WESSELS DAVID',\n",
       "  'DeliveryMode': 'Face-to-Face'},\n",
       " {'Course': 'CSCI 460',\n",
       "  'Section': 'S25N01',\n",
       "  'Location': 'Nanaimo 210 240',\n",
       "  'Days': 'Mo We',\n",
       "  'Start': '08:30',\n",
       "  'End': '10:00',\n",
       "  'StartDate': '06-JAN',\n",
       "  'EndDate': '11-APR',\n",
       "  'Status': 'Enrolled',\n",
       "  'Instructor': 'KABIR HUMAYUN',\n",
       "  'DeliveryMode': 'Face-to-Face'},\n",
       " {'Course': 'CSCI 460',\n",
       "  'Section': 'S25N01',\n",
       "  'Location': 'Nanaimo 315 115',\n",
       "  'Days': 'Mo',\n",
       "  'Start': '15:30',\n",
       "  'End': '16:30',\n",
       "  'StartDate': '06-JAN',\n",
       "  'EndDate': '11-APR',\n",
       "  'Status': 'Enrolled',\n",
       "  'Instructor': 'KABIR HUMAYUN',\n",
       "  'DeliveryMode': 'Face-to-Face'},\n",
       " {'Course': 'ECON 212',\n",
       "  'Section': 'S25N02',\n",
       "  'Location': 'Nanaimo 200 105',\n",
       "  'Days': 'Tu Th',\n",
       "  'Start': '14:30',\n",
       "  'End': '16:00',\n",
       "  'StartDate': '06-JAN',\n",
       "  'EndDate': '11-APR',\n",
       "  'Status': 'Enrolled',\n",
       "  'Instructor': 'LIU JOY',\n",
       "  'DeliveryMode': 'Face-to-Face'},\n",
       " {'Course': 'PHIL 233',\n",
       "  'Section': 'S25N01',\n",
       "  'Location': 'Nanaimo 356 315',\n",
       "  'Days': 'Tu Th',\n",
       "  'Start': '08:30',\n",
       "  'End': '10:00',\n",
       "  'StartDate': '06-JAN',\n",
       "  'EndDate': '11-APR',\n",
       "  'Status': 'Enrolled',\n",
       "  'Instructor': 'HEITI WARREN',\n",
       "  'DeliveryMode': 'Face-to-Face'}]"
      ]
     },
     "execution_count": 4,
     "metadata": {},
     "output_type": "execute_result"
    }
   ],
   "source": [
    "courses"
   ]
  }
 ],
 "metadata": {
  "kernelspec": {
   "display_name": ".venv",
   "language": "python",
   "name": "python3"
  },
  "language_info": {
   "codemirror_mode": {
    "name": "ipython",
    "version": 3
   },
   "file_extension": ".py",
   "mimetype": "text/x-python",
   "name": "python",
   "nbconvert_exporter": "python",
   "pygments_lexer": "ipython3",
   "version": "3.12.3"
  }
 },
 "nbformat": 4,
 "nbformat_minor": 2
}
